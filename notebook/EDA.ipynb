{
 "cells": [
  {
   "cell_type": "markdown",
   "metadata": {},
   "source": [
    "# Book Recommander System\n"
   ]
  },
  {
   "cell_type": "markdown",
   "metadata": {},
   "source": [
    "#### Life cycle of Machine learning Project\n",
    "\n",
    "- Understanding the Problem Statement\n",
    "- Data Collection\n",
    "- Data Checks to perform\n",
    "- Exploratory data analysis\n",
    "- Data Pre-Processing\n",
    "- Model Training\n",
    "- Choose best model"
   ]
  },
  {
   "cell_type": "markdown",
   "metadata": {},
   "source": [
    "### 1) Problem statement\n",
    "- This project understands how the student's performance (test scores) is affected by other variables such as Gender, Ethnicity, Parental level of education, Lunch and Test preparation course.\n",
    "\n",
    "### 2) Data Collection\n",
    "- Dataset Source - https://gist.github.com/jaidevd/23aef12e9bf56c618c41\n",
    "- The data consists of 6 column and 211 rows."
   ]
  },
  {
   "cell_type": "markdown",
   "metadata": {},
   "source": [
    "### 2.1 Import Data and Required Packages\n",
    "####  Importing Pandas, Numpy, Matplotlib, Seaborn library."
   ]
  },
  {
   "cell_type": "code",
   "execution_count": 52,
   "metadata": {},
   "outputs": [],
   "source": [
    "import numpy as np\n",
    "import pandas as pd\n",
    "import seaborn as sns \n",
    "import matplotlib.pyplot as plt "
   ]
  },
  {
   "cell_type": "markdown",
   "metadata": {},
   "source": [
    "#### Import the CSV Data as Pandas DataFrame"
   ]
  },
  {
   "cell_type": "code",
   "execution_count": 53,
   "metadata": {},
   "outputs": [],
   "source": [
    "book = pd.read_csv('data/books_new.csv')"
   ]
  },
  {
   "cell_type": "markdown",
   "metadata": {},
   "source": [
    "#### Show Top 5 Records"
   ]
  },
  {
   "cell_type": "code",
   "execution_count": 54,
   "metadata": {},
   "outputs": [
    {
     "data": {
      "text/html": [
       "<div>\n",
       "<style scoped>\n",
       "    .dataframe tbody tr th:only-of-type {\n",
       "        vertical-align: middle;\n",
       "    }\n",
       "\n",
       "    .dataframe tbody tr th {\n",
       "        vertical-align: top;\n",
       "    }\n",
       "\n",
       "    .dataframe thead th {\n",
       "        text-align: right;\n",
       "    }\n",
       "</style>\n",
       "<table border=\"1\" class=\"dataframe\">\n",
       "  <thead>\n",
       "    <tr style=\"text-align: right;\">\n",
       "      <th></th>\n",
       "      <th>Title</th>\n",
       "      <th>Author</th>\n",
       "      <th>Genre</th>\n",
       "      <th>SubGenre</th>\n",
       "      <th>Height</th>\n",
       "      <th>Publisher</th>\n",
       "    </tr>\n",
       "  </thead>\n",
       "  <tbody>\n",
       "    <tr>\n",
       "      <th>0</th>\n",
       "      <td>Fundamentals of Wavelets</td>\n",
       "      <td>Goswami, Jaideva</td>\n",
       "      <td>tech</td>\n",
       "      <td>signal_processing</td>\n",
       "      <td>228</td>\n",
       "      <td>Wiley</td>\n",
       "    </tr>\n",
       "    <tr>\n",
       "      <th>1</th>\n",
       "      <td>Data Smart</td>\n",
       "      <td>Foreman, John</td>\n",
       "      <td>tech</td>\n",
       "      <td>data_science</td>\n",
       "      <td>235</td>\n",
       "      <td>Wiley</td>\n",
       "    </tr>\n",
       "    <tr>\n",
       "      <th>2</th>\n",
       "      <td>God Created the Integers</td>\n",
       "      <td>Hawking, Stephen</td>\n",
       "      <td>tech</td>\n",
       "      <td>mathematics</td>\n",
       "      <td>197</td>\n",
       "      <td>Penguin</td>\n",
       "    </tr>\n",
       "    <tr>\n",
       "      <th>3</th>\n",
       "      <td>Superfreakonomics</td>\n",
       "      <td>Dubner, Stephen</td>\n",
       "      <td>science</td>\n",
       "      <td>economics</td>\n",
       "      <td>179</td>\n",
       "      <td>HarperCollins</td>\n",
       "    </tr>\n",
       "    <tr>\n",
       "      <th>4</th>\n",
       "      <td>Orientalism</td>\n",
       "      <td>Said, Edward</td>\n",
       "      <td>nonfiction</td>\n",
       "      <td>history</td>\n",
       "      <td>197</td>\n",
       "      <td>Penguin</td>\n",
       "    </tr>\n",
       "  </tbody>\n",
       "</table>\n",
       "</div>"
      ],
      "text/plain": [
       "                      Title            Author       Genre           SubGenre  \\\n",
       "0  Fundamentals of Wavelets  Goswami, Jaideva        tech  signal_processing   \n",
       "1                Data Smart     Foreman, John        tech       data_science   \n",
       "2  God Created the Integers  Hawking, Stephen        tech        mathematics   \n",
       "3         Superfreakonomics   Dubner, Stephen     science          economics   \n",
       "4               Orientalism      Said, Edward  nonfiction            history   \n",
       "\n",
       "   Height      Publisher  \n",
       "0     228          Wiley  \n",
       "1     235          Wiley  \n",
       "2     197        Penguin  \n",
       "3     179  HarperCollins  \n",
       "4     197        Penguin  "
      ]
     },
     "execution_count": 54,
     "metadata": {},
     "output_type": "execute_result"
    }
   ],
   "source": [
    "book.head()"
   ]
  },
  {
   "cell_type": "markdown",
   "metadata": {},
   "source": [
    "#### Shape of the dataset"
   ]
  },
  {
   "cell_type": "code",
   "execution_count": 55,
   "metadata": {},
   "outputs": [
    {
     "data": {
      "text/plain": [
       "(211, 6)"
      ]
     },
     "execution_count": 55,
     "metadata": {},
     "output_type": "execute_result"
    }
   ],
   "source": [
    "book.shape"
   ]
  },
  {
   "cell_type": "markdown",
   "metadata": {},
   "source": [
    "### 2.2 Dataset information"
   ]
  },
  {
   "cell_type": "markdown",
   "metadata": {},
   "source": [
    "- Title : The title or name of the book.\n",
    "- Author : The author or authors of the book, separated by commas.\n",
    "- Genre : The broad category or type of the book, such as Science, Fiction, or Nonfiction.\n",
    "- SubGenre :  A more specific sub-category or theme of the book.\n",
    "- Height : The height of the book in millimeters.\n",
    "- Publisher :  The publishing company or entity responsible for producing the book."
   ]
  },
  {
   "cell_type": "markdown",
   "metadata": {},
   "source": [
    "### 3. Data Checks to perform\n",
    "\n",
    "- Check Missing values\n",
    "- Check Duplicates\n",
    "- Check data type\n",
    "- Check the number of unique values of each column\n",
    "- Check statistics of data set\n",
    "- Check various categories present in the different categorical column"
   ]
  },
  {
   "cell_type": "code",
   "execution_count": 56,
   "metadata": {},
   "outputs": [
    {
     "name": "stdout",
     "output_type": "stream",
     "text": [
      "<class 'pandas.core.frame.DataFrame'>\n",
      "RangeIndex: 211 entries, 0 to 210\n",
      "Data columns (total 6 columns):\n",
      " #   Column     Non-Null Count  Dtype \n",
      "---  ------     --------------  ----- \n",
      " 0   Title      211 non-null    object\n",
      " 1   Author     187 non-null    object\n",
      " 2   Genre      211 non-null    object\n",
      " 3   SubGenre   211 non-null    object\n",
      " 4   Height     211 non-null    int64 \n",
      " 5   Publisher  115 non-null    object\n",
      "dtypes: int64(1), object(5)\n",
      "memory usage: 10.0+ KB\n"
     ]
    }
   ],
   "source": [
    "book.info()"
   ]
  },
  {
   "cell_type": "markdown",
   "metadata": {},
   "source": [
    "### 3.1 Check Missing values"
   ]
  },
  {
   "cell_type": "code",
   "execution_count": 57,
   "metadata": {},
   "outputs": [
    {
     "data": {
      "text/plain": [
       "Title         0\n",
       "Author       24\n",
       "Genre         0\n",
       "SubGenre      0\n",
       "Height        0\n",
       "Publisher    96\n",
       "dtype: int64"
      ]
     },
     "execution_count": 57,
     "metadata": {},
     "output_type": "execute_result"
    }
   ],
   "source": [
    "book.isna().sum()"
   ]
  },
  {
   "cell_type": "code",
   "execution_count": 58,
   "metadata": {},
   "outputs": [],
   "source": [
    "# book['Publisher'].value_counts()\n"
   ]
  },
  {
   "cell_type": "markdown",
   "metadata": {},
   "source": [
    "#### Removing the Pusblisher Column"
   ]
  },
  {
   "cell_type": "markdown",
   "metadata": {},
   "source": [
    "There are 96 missing values in the dataset for the column 'Publisher' of out of 211 . So we are removing the Publisher Column"
   ]
  },
  {
   "cell_type": "code",
   "execution_count": 59,
   "metadata": {},
   "outputs": [],
   "source": [
    "book.drop(columns= ['Publisher'],inplace = True)"
   ]
  },
  {
   "cell_type": "code",
   "execution_count": 60,
   "metadata": {},
   "outputs": [
    {
     "data": {
      "text/html": [
       "<div>\n",
       "<style scoped>\n",
       "    .dataframe tbody tr th:only-of-type {\n",
       "        vertical-align: middle;\n",
       "    }\n",
       "\n",
       "    .dataframe tbody tr th {\n",
       "        vertical-align: top;\n",
       "    }\n",
       "\n",
       "    .dataframe thead th {\n",
       "        text-align: right;\n",
       "    }\n",
       "</style>\n",
       "<table border=\"1\" class=\"dataframe\">\n",
       "  <thead>\n",
       "    <tr style=\"text-align: right;\">\n",
       "      <th></th>\n",
       "      <th>Title</th>\n",
       "      <th>Author</th>\n",
       "      <th>Genre</th>\n",
       "      <th>SubGenre</th>\n",
       "      <th>Height</th>\n",
       "    </tr>\n",
       "  </thead>\n",
       "  <tbody>\n",
       "    <tr>\n",
       "      <th>0</th>\n",
       "      <td>Fundamentals of Wavelets</td>\n",
       "      <td>Goswami, Jaideva</td>\n",
       "      <td>tech</td>\n",
       "      <td>signal_processing</td>\n",
       "      <td>228</td>\n",
       "    </tr>\n",
       "    <tr>\n",
       "      <th>1</th>\n",
       "      <td>Data Smart</td>\n",
       "      <td>Foreman, John</td>\n",
       "      <td>tech</td>\n",
       "      <td>data_science</td>\n",
       "      <td>235</td>\n",
       "    </tr>\n",
       "    <tr>\n",
       "      <th>2</th>\n",
       "      <td>God Created the Integers</td>\n",
       "      <td>Hawking, Stephen</td>\n",
       "      <td>tech</td>\n",
       "      <td>mathematics</td>\n",
       "      <td>197</td>\n",
       "    </tr>\n",
       "    <tr>\n",
       "      <th>3</th>\n",
       "      <td>Superfreakonomics</td>\n",
       "      <td>Dubner, Stephen</td>\n",
       "      <td>science</td>\n",
       "      <td>economics</td>\n",
       "      <td>179</td>\n",
       "    </tr>\n",
       "    <tr>\n",
       "      <th>4</th>\n",
       "      <td>Orientalism</td>\n",
       "      <td>Said, Edward</td>\n",
       "      <td>nonfiction</td>\n",
       "      <td>history</td>\n",
       "      <td>197</td>\n",
       "    </tr>\n",
       "  </tbody>\n",
       "</table>\n",
       "</div>"
      ],
      "text/plain": [
       "                      Title            Author       Genre           SubGenre  \\\n",
       "0  Fundamentals of Wavelets  Goswami, Jaideva        tech  signal_processing   \n",
       "1                Data Smart     Foreman, John        tech       data_science   \n",
       "2  God Created the Integers  Hawking, Stephen        tech        mathematics   \n",
       "3         Superfreakonomics   Dubner, Stephen     science          economics   \n",
       "4               Orientalism      Said, Edward  nonfiction            history   \n",
       "\n",
       "   Height  \n",
       "0     228  \n",
       "1     235  \n",
       "2     197  \n",
       "3     179  \n",
       "4     197  "
      ]
     },
     "execution_count": 60,
     "metadata": {},
     "output_type": "execute_result"
    }
   ],
   "source": [
    "book.head()"
   ]
  },
  {
   "cell_type": "code",
   "execution_count": 61,
   "metadata": {},
   "outputs": [
    {
     "data": {
      "text/plain": [
       "Author\n",
       "Steinbeck, John      8\n",
       "Deshpande, P L       7\n",
       "Rutherford, Alex     5\n",
       "Sen, Amartya         4\n",
       "Rand, Ayn            4\n",
       "                    ..\n",
       "Grisham, John        1\n",
       "Durant, Will         1\n",
       "Poe, Edgar Allen     1\n",
       "Crichton, Michael    1\n",
       "Dickens, Charles     1\n",
       "Name: count, Length: 129, dtype: int64"
      ]
     },
     "execution_count": 61,
     "metadata": {},
     "output_type": "execute_result"
    }
   ],
   "source": [
    "book['Author'].value_counts()\n"
   ]
  },
  {
   "cell_type": "markdown",
   "metadata": {},
   "source": [
    "### Replacing the missing values from the author column"
   ]
  },
  {
   "cell_type": "markdown",
   "metadata": {},
   "source": [
    "There are 24 missing values in Author column . As this column is important for us   to filter the data and perform analysis, We are going to fill the author column with random values from present authors"
   ]
  },
  {
   "cell_type": "code",
   "execution_count": 62,
   "metadata": {},
   "outputs": [],
   "source": [
    "import random\n",
    "# Find non-null author names\n",
    "non_null_authors = book['Author'].dropna().unique()"
   ]
  },
  {
   "cell_type": "code",
   "execution_count": 63,
   "metadata": {},
   "outputs": [],
   "source": [
    "# Replace missing author values with a random author name from the dataset\n",
    "book['Author'] = book['Author'].fillna(random.choice(non_null_authors))"
   ]
  },
  {
   "cell_type": "markdown",
   "metadata": {},
   "source": [
    "### 3.2 Check Duplicates"
   ]
  },
  {
   "cell_type": "code",
   "execution_count": 64,
   "metadata": {},
   "outputs": [
    {
     "data": {
      "text/plain": [
       "0"
      ]
     },
     "execution_count": 64,
     "metadata": {},
     "output_type": "execute_result"
    }
   ],
   "source": [
    "book.duplicated().sum()"
   ]
  },
  {
   "cell_type": "code",
   "execution_count": 65,
   "metadata": {},
   "outputs": [
    {
     "data": {
      "text/plain": [
       "Title       210\n",
       "Author      129\n",
       "Genre         5\n",
       "SubGenre     22\n",
       "Height       65\n",
       "dtype: int64"
      ]
     },
     "execution_count": 65,
     "metadata": {},
     "output_type": "execute_result"
    }
   ],
   "source": [
    "book.nunique()"
   ]
  },
  {
   "cell_type": "markdown",
   "metadata": {},
   "source": [
    "#### There is one duplicate in Title column . As each title should be unique we should remove that row which contains the duplicated title"
   ]
  },
  {
   "cell_type": "code",
   "execution_count": 66,
   "metadata": {},
   "outputs": [
    {
     "data": {
      "text/html": [
       "<div>\n",
       "<style scoped>\n",
       "    .dataframe tbody tr th:only-of-type {\n",
       "        vertical-align: middle;\n",
       "    }\n",
       "\n",
       "    .dataframe tbody tr th {\n",
       "        vertical-align: top;\n",
       "    }\n",
       "\n",
       "    .dataframe thead th {\n",
       "        text-align: right;\n",
       "    }\n",
       "</style>\n",
       "<table border=\"1\" class=\"dataframe\">\n",
       "  <thead>\n",
       "    <tr style=\"text-align: right;\">\n",
       "      <th></th>\n",
       "      <th>Title</th>\n",
       "      <th>Author</th>\n",
       "      <th>Genre</th>\n",
       "      <th>SubGenre</th>\n",
       "      <th>Height</th>\n",
       "    </tr>\n",
       "  </thead>\n",
       "  <tbody>\n",
       "    <tr>\n",
       "      <th>195</th>\n",
       "      <td>Angels &amp; Demons</td>\n",
       "      <td>Brown, Dan</td>\n",
       "      <td>fiction</td>\n",
       "      <td>novel</td>\n",
       "      <td>170</td>\n",
       "    </tr>\n",
       "  </tbody>\n",
       "</table>\n",
       "</div>"
      ],
      "text/plain": [
       "               Title      Author    Genre SubGenre  Height\n",
       "195  Angels & Demons  Brown, Dan  fiction    novel     170"
      ]
     },
     "execution_count": 66,
     "metadata": {},
     "output_type": "execute_result"
    }
   ],
   "source": [
    "book[book['Title'].duplicated()]"
   ]
  },
  {
   "cell_type": "code",
   "execution_count": 67,
   "metadata": {},
   "outputs": [],
   "source": [
    "book = book[~book['Title'].duplicated()]"
   ]
  },
  {
   "cell_type": "markdown",
   "metadata": {},
   "source": [
    "Now there are no Duplicated values in Title"
   ]
  },
  {
   "cell_type": "code",
   "execution_count": 68,
   "metadata": {},
   "outputs": [
    {
     "data": {
      "text/plain": [
       "(210, 5)"
      ]
     },
     "execution_count": 68,
     "metadata": {},
     "output_type": "execute_result"
    }
   ],
   "source": [
    "book.shape"
   ]
  },
  {
   "cell_type": "markdown",
   "metadata": {},
   "source": [
    "### 3.3 Check data types"
   ]
  },
  {
   "cell_type": "code",
   "execution_count": 69,
   "metadata": {},
   "outputs": [
    {
     "name": "stdout",
     "output_type": "stream",
     "text": [
      "<class 'pandas.core.frame.DataFrame'>\n",
      "Index: 210 entries, 0 to 210\n",
      "Data columns (total 5 columns):\n",
      " #   Column    Non-Null Count  Dtype \n",
      "---  ------    --------------  ----- \n",
      " 0   Title     210 non-null    object\n",
      " 1   Author    210 non-null    object\n",
      " 2   Genre     210 non-null    object\n",
      " 3   SubGenre  210 non-null    object\n",
      " 4   Height    210 non-null    int64 \n",
      "dtypes: int64(1), object(4)\n",
      "memory usage: 9.8+ KB\n"
     ]
    }
   ],
   "source": [
    "book.info()"
   ]
  },
  {
   "cell_type": "markdown",
   "metadata": {},
   "source": [
    "### 3.4 Checking the number of unique values of each column"
   ]
  },
  {
   "cell_type": "code",
   "execution_count": 70,
   "metadata": {},
   "outputs": [
    {
     "data": {
      "text/plain": [
       "Title       210\n",
       "Author      129\n",
       "Genre         5\n",
       "SubGenre     22\n",
       "Height       65\n",
       "dtype: int64"
      ]
     },
     "execution_count": 70,
     "metadata": {},
     "output_type": "execute_result"
    }
   ],
   "source": [
    "book.nunique()"
   ]
  },
  {
   "cell_type": "markdown",
   "metadata": {},
   "source": [
    "### 3.5 Check statistics of data set"
   ]
  },
  {
   "cell_type": "code",
   "execution_count": 71,
   "metadata": {},
   "outputs": [
    {
     "data": {
      "text/html": [
       "<div>\n",
       "<style scoped>\n",
       "    .dataframe tbody tr th:only-of-type {\n",
       "        vertical-align: middle;\n",
       "    }\n",
       "\n",
       "    .dataframe tbody tr th {\n",
       "        vertical-align: top;\n",
       "    }\n",
       "\n",
       "    .dataframe thead th {\n",
       "        text-align: right;\n",
       "    }\n",
       "</style>\n",
       "<table border=\"1\" class=\"dataframe\">\n",
       "  <thead>\n",
       "    <tr style=\"text-align: right;\">\n",
       "      <th></th>\n",
       "      <th>Height</th>\n",
       "    </tr>\n",
       "  </thead>\n",
       "  <tbody>\n",
       "    <tr>\n",
       "      <th>count</th>\n",
       "      <td>210.000000</td>\n",
       "    </tr>\n",
       "    <tr>\n",
       "      <th>mean</th>\n",
       "      <td>206.228571</td>\n",
       "    </tr>\n",
       "    <tr>\n",
       "      <th>std</th>\n",
       "      <td>26.775786</td>\n",
       "    </tr>\n",
       "    <tr>\n",
       "      <th>min</th>\n",
       "      <td>160.000000</td>\n",
       "    </tr>\n",
       "    <tr>\n",
       "      <th>25%</th>\n",
       "      <td>180.000000</td>\n",
       "    </tr>\n",
       "    <tr>\n",
       "      <th>50%</th>\n",
       "      <td>199.500000</td>\n",
       "    </tr>\n",
       "    <tr>\n",
       "      <th>75%</th>\n",
       "      <td>229.750000</td>\n",
       "    </tr>\n",
       "    <tr>\n",
       "      <th>max</th>\n",
       "      <td>283.000000</td>\n",
       "    </tr>\n",
       "  </tbody>\n",
       "</table>\n",
       "</div>"
      ],
      "text/plain": [
       "           Height\n",
       "count  210.000000\n",
       "mean   206.228571\n",
       "std     26.775786\n",
       "min    160.000000\n",
       "25%    180.000000\n",
       "50%    199.500000\n",
       "75%    229.750000\n",
       "max    283.000000"
      ]
     },
     "execution_count": 71,
     "metadata": {},
     "output_type": "execute_result"
    }
   ],
   "source": [
    "book.describe()\n",
    "# all the columns are categorical so cannot check statics for all "
   ]
  },
  {
   "cell_type": "markdown",
   "metadata": {},
   "source": [
    "### 3.6 Exploring Data"
   ]
  },
  {
   "cell_type": "code",
   "execution_count": 72,
   "metadata": {},
   "outputs": [
    {
     "data": {
      "text/html": [
       "<div>\n",
       "<style scoped>\n",
       "    .dataframe tbody tr th:only-of-type {\n",
       "        vertical-align: middle;\n",
       "    }\n",
       "\n",
       "    .dataframe tbody tr th {\n",
       "        vertical-align: top;\n",
       "    }\n",
       "\n",
       "    .dataframe thead th {\n",
       "        text-align: right;\n",
       "    }\n",
       "</style>\n",
       "<table border=\"1\" class=\"dataframe\">\n",
       "  <thead>\n",
       "    <tr style=\"text-align: right;\">\n",
       "      <th></th>\n",
       "      <th>Title</th>\n",
       "      <th>Author</th>\n",
       "      <th>Genre</th>\n",
       "      <th>SubGenre</th>\n",
       "      <th>Height</th>\n",
       "    </tr>\n",
       "  </thead>\n",
       "  <tbody>\n",
       "    <tr>\n",
       "      <th>0</th>\n",
       "      <td>Fundamentals of Wavelets</td>\n",
       "      <td>Goswami, Jaideva</td>\n",
       "      <td>tech</td>\n",
       "      <td>signal_processing</td>\n",
       "      <td>228</td>\n",
       "    </tr>\n",
       "    <tr>\n",
       "      <th>1</th>\n",
       "      <td>Data Smart</td>\n",
       "      <td>Foreman, John</td>\n",
       "      <td>tech</td>\n",
       "      <td>data_science</td>\n",
       "      <td>235</td>\n",
       "    </tr>\n",
       "    <tr>\n",
       "      <th>2</th>\n",
       "      <td>God Created the Integers</td>\n",
       "      <td>Hawking, Stephen</td>\n",
       "      <td>tech</td>\n",
       "      <td>mathematics</td>\n",
       "      <td>197</td>\n",
       "    </tr>\n",
       "    <tr>\n",
       "      <th>3</th>\n",
       "      <td>Superfreakonomics</td>\n",
       "      <td>Dubner, Stephen</td>\n",
       "      <td>science</td>\n",
       "      <td>economics</td>\n",
       "      <td>179</td>\n",
       "    </tr>\n",
       "    <tr>\n",
       "      <th>4</th>\n",
       "      <td>Orientalism</td>\n",
       "      <td>Said, Edward</td>\n",
       "      <td>nonfiction</td>\n",
       "      <td>history</td>\n",
       "      <td>197</td>\n",
       "    </tr>\n",
       "  </tbody>\n",
       "</table>\n",
       "</div>"
      ],
      "text/plain": [
       "                      Title            Author       Genre           SubGenre  \\\n",
       "0  Fundamentals of Wavelets  Goswami, Jaideva        tech  signal_processing   \n",
       "1                Data Smart     Foreman, John        tech       data_science   \n",
       "2  God Created the Integers  Hawking, Stephen        tech        mathematics   \n",
       "3         Superfreakonomics   Dubner, Stephen     science          economics   \n",
       "4               Orientalism      Said, Edward  nonfiction            history   \n",
       "\n",
       "   Height  \n",
       "0     228  \n",
       "1     235  \n",
       "2     197  \n",
       "3     179  \n",
       "4     197  "
      ]
     },
     "execution_count": 72,
     "metadata": {},
     "output_type": "execute_result"
    }
   ],
   "source": [
    "book.head()"
   ]
  },
  {
   "cell_type": "code",
   "execution_count": 73,
   "metadata": {},
   "outputs": [],
   "source": [
    "book['Category'] = book['Genre'] + ' ' + book['SubGenre']"
   ]
  },
  {
   "cell_type": "code",
   "execution_count": 74,
   "metadata": {},
   "outputs": [
    {
     "data": {
      "text/html": [
       "<div>\n",
       "<style scoped>\n",
       "    .dataframe tbody tr th:only-of-type {\n",
       "        vertical-align: middle;\n",
       "    }\n",
       "\n",
       "    .dataframe tbody tr th {\n",
       "        vertical-align: top;\n",
       "    }\n",
       "\n",
       "    .dataframe thead th {\n",
       "        text-align: right;\n",
       "    }\n",
       "</style>\n",
       "<table border=\"1\" class=\"dataframe\">\n",
       "  <thead>\n",
       "    <tr style=\"text-align: right;\">\n",
       "      <th></th>\n",
       "      <th>Title</th>\n",
       "      <th>Author</th>\n",
       "      <th>Genre</th>\n",
       "      <th>SubGenre</th>\n",
       "      <th>Height</th>\n",
       "      <th>Category</th>\n",
       "    </tr>\n",
       "  </thead>\n",
       "  <tbody>\n",
       "    <tr>\n",
       "      <th>0</th>\n",
       "      <td>Fundamentals of Wavelets</td>\n",
       "      <td>Goswami, Jaideva</td>\n",
       "      <td>tech</td>\n",
       "      <td>signal_processing</td>\n",
       "      <td>228</td>\n",
       "      <td>tech signal_processing</td>\n",
       "    </tr>\n",
       "    <tr>\n",
       "      <th>1</th>\n",
       "      <td>Data Smart</td>\n",
       "      <td>Foreman, John</td>\n",
       "      <td>tech</td>\n",
       "      <td>data_science</td>\n",
       "      <td>235</td>\n",
       "      <td>tech data_science</td>\n",
       "    </tr>\n",
       "    <tr>\n",
       "      <th>2</th>\n",
       "      <td>God Created the Integers</td>\n",
       "      <td>Hawking, Stephen</td>\n",
       "      <td>tech</td>\n",
       "      <td>mathematics</td>\n",
       "      <td>197</td>\n",
       "      <td>tech mathematics</td>\n",
       "    </tr>\n",
       "    <tr>\n",
       "      <th>3</th>\n",
       "      <td>Superfreakonomics</td>\n",
       "      <td>Dubner, Stephen</td>\n",
       "      <td>science</td>\n",
       "      <td>economics</td>\n",
       "      <td>179</td>\n",
       "      <td>science economics</td>\n",
       "    </tr>\n",
       "    <tr>\n",
       "      <th>4</th>\n",
       "      <td>Orientalism</td>\n",
       "      <td>Said, Edward</td>\n",
       "      <td>nonfiction</td>\n",
       "      <td>history</td>\n",
       "      <td>197</td>\n",
       "      <td>nonfiction history</td>\n",
       "    </tr>\n",
       "  </tbody>\n",
       "</table>\n",
       "</div>"
      ],
      "text/plain": [
       "                      Title            Author       Genre           SubGenre  \\\n",
       "0  Fundamentals of Wavelets  Goswami, Jaideva        tech  signal_processing   \n",
       "1                Data Smart     Foreman, John        tech       data_science   \n",
       "2  God Created the Integers  Hawking, Stephen        tech        mathematics   \n",
       "3         Superfreakonomics   Dubner, Stephen     science          economics   \n",
       "4               Orientalism      Said, Edward  nonfiction            history   \n",
       "\n",
       "   Height                Category  \n",
       "0     228  tech signal_processing  \n",
       "1     235       tech data_science  \n",
       "2     197        tech mathematics  \n",
       "3     179       science economics  \n",
       "4     197      nonfiction history  "
      ]
     },
     "execution_count": 74,
     "metadata": {},
     "output_type": "execute_result"
    }
   ],
   "source": [
    "book.head()"
   ]
  },
  {
   "cell_type": "code",
   "execution_count": 75,
   "metadata": {},
   "outputs": [],
   "source": [
    "\n",
    "from sklearn.feature_extraction.text import TfidfVectorizer\n",
    "\n",
    "# Tokenize and extract features from titles and authors\n",
    "title_vectorizer = TfidfVectorizer()\n",
    "title_features = title_vectorizer.fit_transform(book['Title'])\n",
    "\n",
    "author_vectorizer = TfidfVectorizer()\n",
    "author_features = author_vectorizer.fit_transform(book['Author'])\n",
    "\n",
    "# One-hot encode Genre and SubGenre columns\n",
    "genre_dummies = pd.get_dummies(book['Genre'], prefix='Genre')\n",
    "subgenre_dummies = pd.get_dummies(book['SubGenre'], prefix='SubGenre')\n",
    "\n",
    "# Concatenate the original DataFrame with the new features\n",
    "new_book = pd.concat([book, pd.DataFrame(title_features.toarray(), columns=title_vectorizer.get_feature_names_out()),pd.DataFrame(author_features.toarray(), columns=author_vectorizer.get_feature_names_out()),genre_dummies, subgenre_dummies], axis=1)\n",
    "\n",
    "# Drop original text and categorical columns\n",
    "new_book.drop(columns=['Title', 'Author', 'Genre', 'SubGenre'], inplace=True)\n"
   ]
  },
  {
   "cell_type": "code",
   "execution_count": 76,
   "metadata": {},
   "outputs": [
    {
     "data": {
      "text/html": [
       "<div>\n",
       "<style scoped>\n",
       "    .dataframe tbody tr th:only-of-type {\n",
       "        vertical-align: middle;\n",
       "    }\n",
       "\n",
       "    .dataframe tbody tr th {\n",
       "        vertical-align: top;\n",
       "    }\n",
       "\n",
       "    .dataframe thead th {\n",
       "        text-align: right;\n",
       "    }\n",
       "</style>\n",
       "<table border=\"1\" class=\"dataframe\">\n",
       "  <thead>\n",
       "    <tr style=\"text-align: right;\">\n",
       "      <th></th>\n",
       "      <th>Height</th>\n",
       "      <th>Category</th>\n",
       "      <th>106</th>\n",
       "      <th>20000</th>\n",
       "      <th>22</th>\n",
       "      <th>39</th>\n",
       "      <th>advocate</th>\n",
       "      <th>age</th>\n",
       "      <th>agent</th>\n",
       "      <th>aghal</th>\n",
       "      <th>...</th>\n",
       "      <th>SubGenre_novel</th>\n",
       "      <th>SubGenre_objectivism</th>\n",
       "      <th>SubGenre_philosophy</th>\n",
       "      <th>SubGenre_physics</th>\n",
       "      <th>SubGenre_poetry</th>\n",
       "      <th>SubGenre_politics</th>\n",
       "      <th>SubGenre_psychology</th>\n",
       "      <th>SubGenre_science</th>\n",
       "      <th>SubGenre_signal_processing</th>\n",
       "      <th>SubGenre_trivia</th>\n",
       "    </tr>\n",
       "  </thead>\n",
       "  <tbody>\n",
       "    <tr>\n",
       "      <th>0</th>\n",
       "      <td>228.0</td>\n",
       "      <td>tech signal_processing</td>\n",
       "      <td>0.0</td>\n",
       "      <td>0.0</td>\n",
       "      <td>0.0</td>\n",
       "      <td>0.0</td>\n",
       "      <td>0.0</td>\n",
       "      <td>0.0</td>\n",
       "      <td>0.0</td>\n",
       "      <td>0.0</td>\n",
       "      <td>...</td>\n",
       "      <td>False</td>\n",
       "      <td>False</td>\n",
       "      <td>False</td>\n",
       "      <td>False</td>\n",
       "      <td>False</td>\n",
       "      <td>False</td>\n",
       "      <td>False</td>\n",
       "      <td>False</td>\n",
       "      <td>True</td>\n",
       "      <td>False</td>\n",
       "    </tr>\n",
       "    <tr>\n",
       "      <th>1</th>\n",
       "      <td>235.0</td>\n",
       "      <td>tech data_science</td>\n",
       "      <td>0.0</td>\n",
       "      <td>0.0</td>\n",
       "      <td>0.0</td>\n",
       "      <td>0.0</td>\n",
       "      <td>0.0</td>\n",
       "      <td>0.0</td>\n",
       "      <td>0.0</td>\n",
       "      <td>0.0</td>\n",
       "      <td>...</td>\n",
       "      <td>False</td>\n",
       "      <td>False</td>\n",
       "      <td>False</td>\n",
       "      <td>False</td>\n",
       "      <td>False</td>\n",
       "      <td>False</td>\n",
       "      <td>False</td>\n",
       "      <td>False</td>\n",
       "      <td>False</td>\n",
       "      <td>False</td>\n",
       "    </tr>\n",
       "    <tr>\n",
       "      <th>2</th>\n",
       "      <td>197.0</td>\n",
       "      <td>tech mathematics</td>\n",
       "      <td>0.0</td>\n",
       "      <td>0.0</td>\n",
       "      <td>0.0</td>\n",
       "      <td>0.0</td>\n",
       "      <td>0.0</td>\n",
       "      <td>0.0</td>\n",
       "      <td>0.0</td>\n",
       "      <td>0.0</td>\n",
       "      <td>...</td>\n",
       "      <td>False</td>\n",
       "      <td>False</td>\n",
       "      <td>False</td>\n",
       "      <td>False</td>\n",
       "      <td>False</td>\n",
       "      <td>False</td>\n",
       "      <td>False</td>\n",
       "      <td>False</td>\n",
       "      <td>False</td>\n",
       "      <td>False</td>\n",
       "    </tr>\n",
       "    <tr>\n",
       "      <th>3</th>\n",
       "      <td>179.0</td>\n",
       "      <td>science economics</td>\n",
       "      <td>0.0</td>\n",
       "      <td>0.0</td>\n",
       "      <td>0.0</td>\n",
       "      <td>0.0</td>\n",
       "      <td>0.0</td>\n",
       "      <td>0.0</td>\n",
       "      <td>0.0</td>\n",
       "      <td>0.0</td>\n",
       "      <td>...</td>\n",
       "      <td>False</td>\n",
       "      <td>False</td>\n",
       "      <td>False</td>\n",
       "      <td>False</td>\n",
       "      <td>False</td>\n",
       "      <td>False</td>\n",
       "      <td>False</td>\n",
       "      <td>False</td>\n",
       "      <td>False</td>\n",
       "      <td>False</td>\n",
       "    </tr>\n",
       "    <tr>\n",
       "      <th>4</th>\n",
       "      <td>197.0</td>\n",
       "      <td>nonfiction history</td>\n",
       "      <td>0.0</td>\n",
       "      <td>0.0</td>\n",
       "      <td>0.0</td>\n",
       "      <td>0.0</td>\n",
       "      <td>0.0</td>\n",
       "      <td>0.0</td>\n",
       "      <td>0.0</td>\n",
       "      <td>0.0</td>\n",
       "      <td>...</td>\n",
       "      <td>False</td>\n",
       "      <td>False</td>\n",
       "      <td>False</td>\n",
       "      <td>False</td>\n",
       "      <td>False</td>\n",
       "      <td>False</td>\n",
       "      <td>False</td>\n",
       "      <td>False</td>\n",
       "      <td>False</td>\n",
       "      <td>False</td>\n",
       "    </tr>\n",
       "  </tbody>\n",
       "</table>\n",
       "<p>5 rows × 653 columns</p>\n",
       "</div>"
      ],
      "text/plain": [
       "   Height                Category  106  20000   22   39  advocate  age  agent  \\\n",
       "0   228.0  tech signal_processing  0.0    0.0  0.0  0.0       0.0  0.0    0.0   \n",
       "1   235.0       tech data_science  0.0    0.0  0.0  0.0       0.0  0.0    0.0   \n",
       "2   197.0        tech mathematics  0.0    0.0  0.0  0.0       0.0  0.0    0.0   \n",
       "3   179.0       science economics  0.0    0.0  0.0  0.0       0.0  0.0    0.0   \n",
       "4   197.0      nonfiction history  0.0    0.0  0.0  0.0       0.0  0.0    0.0   \n",
       "\n",
       "   aghal  ...  SubGenre_novel  SubGenre_objectivism  SubGenre_philosophy  \\\n",
       "0    0.0  ...           False                 False                False   \n",
       "1    0.0  ...           False                 False                False   \n",
       "2    0.0  ...           False                 False                False   \n",
       "3    0.0  ...           False                 False                False   \n",
       "4    0.0  ...           False                 False                False   \n",
       "\n",
       "   SubGenre_physics  SubGenre_poetry  SubGenre_politics  SubGenre_psychology  \\\n",
       "0             False            False              False                False   \n",
       "1             False            False              False                False   \n",
       "2             False            False              False                False   \n",
       "3             False            False              False                False   \n",
       "4             False            False              False                False   \n",
       "\n",
       "   SubGenre_science  SubGenre_signal_processing  SubGenre_trivia  \n",
       "0             False                        True            False  \n",
       "1             False                       False            False  \n",
       "2             False                       False            False  \n",
       "3             False                       False            False  \n",
       "4             False                       False            False  \n",
       "\n",
       "[5 rows x 653 columns]"
      ]
     },
     "execution_count": 76,
     "metadata": {},
     "output_type": "execute_result"
    }
   ],
   "source": [
    "new_book.head()"
   ]
  },
  {
   "cell_type": "code",
   "execution_count": 78,
   "metadata": {},
   "outputs": [
    {
     "data": {
      "text/plain": [
       "(211, 653)"
      ]
     },
     "execution_count": 78,
     "metadata": {},
     "output_type": "execute_result"
    }
   ],
   "source": [
    "new_book.shape"
   ]
  },
  {
   "cell_type": "code",
   "execution_count": null,
   "metadata": {},
   "outputs": [],
   "source": []
  },
  {
   "cell_type": "code",
   "execution_count": null,
   "metadata": {},
   "outputs": [],
   "source": []
  }
 ],
 "metadata": {
  "kernelspec": {
   "display_name": "venv",
   "language": "python",
   "name": "python3"
  },
  "language_info": {
   "codemirror_mode": {
    "name": "ipython",
    "version": 3
   },
   "file_extension": ".py",
   "mimetype": "text/x-python",
   "name": "python",
   "nbconvert_exporter": "python",
   "pygments_lexer": "ipython3",
   "version": "3.11.3"
  },
  "orig_nbformat": 4
 },
 "nbformat": 4,
 "nbformat_minor": 2
}
