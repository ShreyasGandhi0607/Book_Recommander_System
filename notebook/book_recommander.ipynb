{
 "cells": [
  {
   "cell_type": "code",
   "execution_count": 3,
   "metadata": {},
   "outputs": [],
   "source": [
    "import numpy as np \n",
    "import pandas as pd\n"
   ]
  },
  {
   "cell_type": "code",
   "execution_count": 7,
   "metadata": {},
   "outputs": [],
   "source": [
    "books = pd.read_csv('data/final_books.csv')"
   ]
  },
  {
   "cell_type": "code",
   "execution_count": 8,
   "metadata": {},
   "outputs": [
    {
     "data": {
      "text/html": [
       "<div>\n",
       "<style scoped>\n",
       "    .dataframe tbody tr th:only-of-type {\n",
       "        vertical-align: middle;\n",
       "    }\n",
       "\n",
       "    .dataframe tbody tr th {\n",
       "        vertical-align: top;\n",
       "    }\n",
       "\n",
       "    .dataframe thead th {\n",
       "        text-align: right;\n",
       "    }\n",
       "</style>\n",
       "<table border=\"1\" class=\"dataframe\">\n",
       "  <thead>\n",
       "    <tr style=\"text-align: right;\">\n",
       "      <th></th>\n",
       "      <th>Title</th>\n",
       "      <th>Author</th>\n",
       "      <th>Genre</th>\n",
       "      <th>SubGenre</th>\n",
       "      <th>Height</th>\n",
       "      <th>Category</th>\n",
       "    </tr>\n",
       "  </thead>\n",
       "  <tbody>\n",
       "    <tr>\n",
       "      <th>0</th>\n",
       "      <td>Fundamentals of Wavelets</td>\n",
       "      <td>Goswami, Jaideva</td>\n",
       "      <td>tech</td>\n",
       "      <td>signal_processing</td>\n",
       "      <td>228</td>\n",
       "      <td>tech signal_processing</td>\n",
       "    </tr>\n",
       "    <tr>\n",
       "      <th>1</th>\n",
       "      <td>Data Smart</td>\n",
       "      <td>Foreman, John</td>\n",
       "      <td>tech</td>\n",
       "      <td>data_science</td>\n",
       "      <td>235</td>\n",
       "      <td>tech data_science</td>\n",
       "    </tr>\n",
       "    <tr>\n",
       "      <th>2</th>\n",
       "      <td>God Created the Integers</td>\n",
       "      <td>Hawking, Stephen</td>\n",
       "      <td>tech</td>\n",
       "      <td>mathematics</td>\n",
       "      <td>197</td>\n",
       "      <td>tech mathematics</td>\n",
       "    </tr>\n",
       "    <tr>\n",
       "      <th>3</th>\n",
       "      <td>Superfreakonomics</td>\n",
       "      <td>Dubner, Stephen</td>\n",
       "      <td>science</td>\n",
       "      <td>economics</td>\n",
       "      <td>179</td>\n",
       "      <td>science economics</td>\n",
       "    </tr>\n",
       "    <tr>\n",
       "      <th>4</th>\n",
       "      <td>Orientalism</td>\n",
       "      <td>Said, Edward</td>\n",
       "      <td>nonfiction</td>\n",
       "      <td>history</td>\n",
       "      <td>197</td>\n",
       "      <td>nonfiction history</td>\n",
       "    </tr>\n",
       "  </tbody>\n",
       "</table>\n",
       "</div>"
      ],
      "text/plain": [
       "                      Title            Author       Genre           SubGenre  \\\n",
       "0  Fundamentals of Wavelets  Goswami, Jaideva        tech  signal_processing   \n",
       "1                Data Smart     Foreman, John        tech       data_science   \n",
       "2  God Created the Integers  Hawking, Stephen        tech        mathematics   \n",
       "3         Superfreakonomics   Dubner, Stephen     science          economics   \n",
       "4               Orientalism      Said, Edward  nonfiction            history   \n",
       "\n",
       "   Height                Category  \n",
       "0     228  tech signal_processing  \n",
       "1     235       tech data_science  \n",
       "2     197        tech mathematics  \n",
       "3     179       science economics  \n",
       "4     197      nonfiction history  "
      ]
     },
     "execution_count": 8,
     "metadata": {},
     "output_type": "execute_result"
    }
   ],
   "source": [
    "books.head()"
   ]
  },
  {
   "cell_type": "code",
   "execution_count": 9,
   "metadata": {},
   "outputs": [
    {
     "data": {
      "text/plain": [
       "(210, 6)"
      ]
     },
     "execution_count": 9,
     "metadata": {},
     "output_type": "execute_result"
    }
   ],
   "source": [
    "books.shape"
   ]
  },
  {
   "cell_type": "code",
   "execution_count": 10,
   "metadata": {},
   "outputs": [
    {
     "name": "stdout",
     "output_type": "stream",
     "text": [
      "<class 'pandas.core.frame.DataFrame'>\n",
      "RangeIndex: 210 entries, 0 to 209\n",
      "Data columns (total 6 columns):\n",
      " #   Column    Non-Null Count  Dtype \n",
      "---  ------    --------------  ----- \n",
      " 0   Title     210 non-null    object\n",
      " 1   Author    210 non-null    object\n",
      " 2   Genre     210 non-null    object\n",
      " 3   SubGenre  210 non-null    object\n",
      " 4   Height    210 non-null    int64 \n",
      " 5   Category  210 non-null    object\n",
      "dtypes: int64(1), object(5)\n",
      "memory usage: 10.0+ KB\n"
     ]
    }
   ],
   "source": [
    "books.info()"
   ]
  },
  {
   "cell_type": "code",
   "execution_count": 29,
   "metadata": {},
   "outputs": [],
   "source": [
    "new_book = pd.read_csv('data/encoded_book.csv')"
   ]
  },
  {
   "cell_type": "code",
   "execution_count": 30,
   "metadata": {},
   "outputs": [
    {
     "data": {
      "text/plain": [
       "(211, 656)"
      ]
     },
     "execution_count": 30,
     "metadata": {},
     "output_type": "execute_result"
    }
   ],
   "source": [
    "new_book.shape"
   ]
  },
  {
   "cell_type": "code",
   "execution_count": 23,
   "metadata": {},
   "outputs": [
    {
     "name": "stdout",
     "output_type": "stream",
     "text": [
      "<class 'pandas.core.frame.DataFrame'>\n",
      "RangeIndex: 211 entries, 0 to 210\n",
      "Columns: 654 entries, Title to SubGenre_trivia\n",
      "dtypes: float64(625), object(29)\n",
      "memory usage: 1.1+ MB\n"
     ]
    }
   ],
   "source": [
    "new_book.info()"
   ]
  },
  {
   "cell_type": "markdown",
   "metadata": {},
   "source": [
    "### Now based on fatures extracted from dataset . We are going to use content based filtering to recommand the books to the user"
   ]
  },
  {
   "cell_type": "code",
   "execution_count": 24,
   "metadata": {},
   "outputs": [],
   "source": [
    "from sklearn.metrics.pairwise import cosine_similarity"
   ]
  },
  {
   "cell_type": "code",
   "execution_count": 32,
   "metadata": {},
   "outputs": [
    {
     "name": "stdout",
     "output_type": "stream",
     "text": [
      "                                          Title Genre           SubGenre\n",
      "60           Computer Vision, A Modern Approach  tech  signal_processing\n",
      "61          Principles of Communication Systems  tech  signal_processing\n",
      "8    Image Processing & Mathematical Morphology  tech  signal_processing\n",
      "206                Image Processing with MATLAB  tech  signal_processing\n",
      "154              Elements of Information Theory  tech  signal_processing\n"
     ]
    }
   ],
   "source": [
    "from sklearn.metrics.pairwise import cosine_similarity\n",
    "from sklearn.impute import SimpleImputer\n",
    "\n",
    "# Impute NaN values using mean imputation\n",
    "imputer = SimpleImputer(strategy='mean')\n",
    "new_book_imputed = imputer.fit_transform(new_book.drop(columns=['Title', 'Author','Genre','SubGenre']))\n",
    "\n",
    "# Calculate cosine similarity between all pairs of books based on their features\n",
    "similarity_matrix = cosine_similarity(new_book_imputed)\n",
    "\n",
    "def recommend_books(book_title, num_recommendations=5):\n",
    "    # Find the index of the book in the DataFrame\n",
    "    book_index = new_book[new_book['Title'] == book_title].index[0]\n",
    "    \n",
    "    # Get similarity scores for the book with other books\n",
    "    sim_scores = list(enumerate(similarity_matrix[book_index]))\n",
    "    \n",
    "    # Sort the books based on similarity scores\n",
    "    sim_scores = sorted(sim_scores, key=lambda x: x[1], reverse=True)\n",
    "    \n",
    "    # Get the indices of the top similar books (excluding the book itself)\n",
    "    similar_books_indices = [i for i, _ in sim_scores[1:num_recommendations+1]]\n",
    "    \n",
    "    # Return the titles, genres, and subgenres of recommended books\n",
    "    recommended_books = new_book.iloc[similar_books_indices][['Title', 'Genre', 'SubGenre']]\n",
    "    return recommended_books\n",
    "\n",
    "# Example: Recommend books similar to 'Fundamentals of Wavelets'\n",
    "recommended_books = recommend_books('Fundamentals of Wavelets')\n",
    "print(recommended_books)\n"
   ]
  },
  {
   "cell_type": "code",
   "execution_count": null,
   "metadata": {},
   "outputs": [],
   "source": []
  }
 ],
 "metadata": {
  "kernelspec": {
   "display_name": "venv",
   "language": "python",
   "name": "python3"
  },
  "language_info": {
   "codemirror_mode": {
    "name": "ipython",
    "version": 3
   },
   "file_extension": ".py",
   "mimetype": "text/x-python",
   "name": "python",
   "nbconvert_exporter": "python",
   "pygments_lexer": "ipython3",
   "version": "3.11.3"
  },
  "orig_nbformat": 4
 },
 "nbformat": 4,
 "nbformat_minor": 2
}
